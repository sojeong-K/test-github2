{
 "cells": [
  {
   "cell_type": "code",
   "execution_count": 5,
   "id": "7512d355",
   "metadata": {},
   "outputs": [
    {
     "name": "stdout",
     "output_type": "stream",
     "text": [
      "pass\n",
      "pass\n",
      "pass\n",
      "fail\n",
      "pass\n"
     ]
    }
   ],
   "source": [
    "score=[65, 80, 75, 55, 90]\n",
    "\n",
    "for i in range(len(score)):\n",
    "    if score[i]>= 60:\n",
    "        print(\"pass\")\n",
    "    else :\n",
    "        print(\"fail\")"
   ]
  },
  {
   "cell_type": "code",
   "execution_count": 4,
   "id": "60e1a138",
   "metadata": {},
   "outputs": [
    {
     "name": "stdout",
     "output_type": "stream",
     "text": [
      "[1, 0, 1, 0, 1, 1, 1, 0, 0, 0, 1, 0]\n"
     ]
    }
   ],
   "source": [
    "data1=[\"Cat\", \"Dog\", \"cat\", \"dog\", \"cat\", \"cat\", \"Cat\", \"Dog\", \"dog\", \"Dog\", \"cat\", \"Dog\"]\n",
    "dic_1={\"cat\":1, \"dog\":0, \"Cat\":1, \"Dog\":0}\n",
    "data2=[dic_1[key] for key in data1]\n",
    "print(data2)"
   ]
  },
  {
   "cell_type": "code",
   "execution_count": null,
   "id": "0ba013e5",
   "metadata": {},
   "outputs": [],
   "source": []
  }
 ],
 "metadata": {
  "kernelspec": {
   "display_name": "Python 3 (ipykernel)",
   "language": "python",
   "name": "python3"
  },
  "language_info": {
   "codemirror_mode": {
    "name": "ipython",
    "version": 3
   },
   "file_extension": ".py",
   "mimetype": "text/x-python",
   "name": "python",
   "nbconvert_exporter": "python",
   "pygments_lexer": "ipython3",
   "version": "3.9.7"
  }
 },
 "nbformat": 4,
 "nbformat_minor": 5
}
